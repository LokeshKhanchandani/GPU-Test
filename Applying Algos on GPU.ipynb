{
 "cells": [
  {
   "cell_type": "markdown",
   "metadata": {},
   "source": [
    "<h3>After data analysis"
   ]
  },
  {
   "cell_type": "code",
   "execution_count": 1,
   "metadata": {},
   "outputs": [],
   "source": [
    "import pandas as pd\n",
    "data=pd.read_csv(\"train.csv\")"
   ]
  },
  {
   "cell_type": "code",
   "execution_count": 2,
   "metadata": {},
   "outputs": [
    {
     "data": {
      "text/html": [
       "<div>\n",
       "<style scoped>\n",
       "    .dataframe tbody tr th:only-of-type {\n",
       "        vertical-align: middle;\n",
       "    }\n",
       "\n",
       "    .dataframe tbody tr th {\n",
       "        vertical-align: top;\n",
       "    }\n",
       "\n",
       "    .dataframe thead th {\n",
       "        text-align: right;\n",
       "    }\n",
       "</style>\n",
       "<table border=\"1\" class=\"dataframe\">\n",
       "  <thead>\n",
       "    <tr style=\"text-align: right;\">\n",
       "      <th></th>\n",
       "      <th>MWG</th>\n",
       "      <th>NWG</th>\n",
       "      <th>KWG</th>\n",
       "      <th>MDIMC</th>\n",
       "      <th>NDIMC</th>\n",
       "      <th>MDIMA</th>\n",
       "      <th>NDIMB</th>\n",
       "      <th>KWI</th>\n",
       "      <th>VWM</th>\n",
       "      <th>VWN</th>\n",
       "      <th>STRM</th>\n",
       "      <th>STRN</th>\n",
       "      <th>SA</th>\n",
       "      <th>SB</th>\n",
       "      <th>Run1 (ms)</th>\n",
       "      <th>Run2 (ms)</th>\n",
       "      <th>Run3 (ms)</th>\n",
       "      <th>Run4 (ms)</th>\n",
       "    </tr>\n",
       "  </thead>\n",
       "  <tbody>\n",
       "    <tr>\n",
       "      <th>0</th>\n",
       "      <td>128</td>\n",
       "      <td>128</td>\n",
       "      <td>16</td>\n",
       "      <td>16</td>\n",
       "      <td>16</td>\n",
       "      <td>16</td>\n",
       "      <td>16</td>\n",
       "      <td>2</td>\n",
       "      <td>1</td>\n",
       "      <td>1</td>\n",
       "      <td>0</td>\n",
       "      <td>0</td>\n",
       "      <td>0</td>\n",
       "      <td>0</td>\n",
       "      <td>287.87</td>\n",
       "      <td>288.66</td>\n",
       "      <td>289.45</td>\n",
       "      <td>288.24</td>\n",
       "    </tr>\n",
       "    <tr>\n",
       "      <th>1</th>\n",
       "      <td>128</td>\n",
       "      <td>128</td>\n",
       "      <td>16</td>\n",
       "      <td>16</td>\n",
       "      <td>16</td>\n",
       "      <td>16</td>\n",
       "      <td>16</td>\n",
       "      <td>2</td>\n",
       "      <td>1</td>\n",
       "      <td>1</td>\n",
       "      <td>0</td>\n",
       "      <td>0</td>\n",
       "      <td>0</td>\n",
       "      <td>1</td>\n",
       "      <td>241.13</td>\n",
       "      <td>247.84</td>\n",
       "      <td>248.27</td>\n",
       "      <td>247.49</td>\n",
       "    </tr>\n",
       "    <tr>\n",
       "      <th>2</th>\n",
       "      <td>128</td>\n",
       "      <td>128</td>\n",
       "      <td>16</td>\n",
       "      <td>16</td>\n",
       "      <td>16</td>\n",
       "      <td>16</td>\n",
       "      <td>16</td>\n",
       "      <td>2</td>\n",
       "      <td>1</td>\n",
       "      <td>1</td>\n",
       "      <td>0</td>\n",
       "      <td>0</td>\n",
       "      <td>1</td>\n",
       "      <td>1</td>\n",
       "      <td>148.12</td>\n",
       "      <td>149.99</td>\n",
       "      <td>149.90</td>\n",
       "      <td>150.14</td>\n",
       "    </tr>\n",
       "    <tr>\n",
       "      <th>3</th>\n",
       "      <td>128</td>\n",
       "      <td>128</td>\n",
       "      <td>16</td>\n",
       "      <td>16</td>\n",
       "      <td>16</td>\n",
       "      <td>16</td>\n",
       "      <td>16</td>\n",
       "      <td>2</td>\n",
       "      <td>1</td>\n",
       "      <td>1</td>\n",
       "      <td>0</td>\n",
       "      <td>1</td>\n",
       "      <td>0</td>\n",
       "      <td>0</td>\n",
       "      <td>301.40</td>\n",
       "      <td>302.43</td>\n",
       "      <td>302.70</td>\n",
       "      <td>301.94</td>\n",
       "    </tr>\n",
       "    <tr>\n",
       "      <th>4</th>\n",
       "      <td>128</td>\n",
       "      <td>128</td>\n",
       "      <td>16</td>\n",
       "      <td>16</td>\n",
       "      <td>16</td>\n",
       "      <td>16</td>\n",
       "      <td>16</td>\n",
       "      <td>2</td>\n",
       "      <td>1</td>\n",
       "      <td>1</td>\n",
       "      <td>0</td>\n",
       "      <td>1</td>\n",
       "      <td>1</td>\n",
       "      <td>0</td>\n",
       "      <td>244.74</td>\n",
       "      <td>251.80</td>\n",
       "      <td>252.15</td>\n",
       "      <td>251.04</td>\n",
       "    </tr>\n",
       "  </tbody>\n",
       "</table>\n",
       "</div>"
      ],
      "text/plain": [
       "   MWG  NWG  KWG  MDIMC  NDIMC  MDIMA  NDIMB  KWI  VWM  VWN  STRM  STRN  SA  \\\n",
       "0  128  128   16     16     16     16     16    2    1    1     0     0   0   \n",
       "1  128  128   16     16     16     16     16    2    1    1     0     0   0   \n",
       "2  128  128   16     16     16     16     16    2    1    1     0     0   1   \n",
       "3  128  128   16     16     16     16     16    2    1    1     0     1   0   \n",
       "4  128  128   16     16     16     16     16    2    1    1     0     1   1   \n",
       "\n",
       "   SB  Run1 (ms)  Run2 (ms)  Run3 (ms)  Run4 (ms)  \n",
       "0   0     287.87     288.66     289.45     288.24  \n",
       "1   1     241.13     247.84     248.27     247.49  \n",
       "2   1     148.12     149.99     149.90     150.14  \n",
       "3   0     301.40     302.43     302.70     301.94  \n",
       "4   0     244.74     251.80     252.15     251.04  "
      ]
     },
     "execution_count": 2,
     "metadata": {},
     "output_type": "execute_result"
    }
   ],
   "source": [
    "data.head()"
   ]
  },
  {
   "cell_type": "code",
   "execution_count": 3,
   "metadata": {},
   "outputs": [
    {
     "name": "stdout",
     "output_type": "stream",
     "text": [
      "<class 'pandas.core.frame.DataFrame'>\n",
      "RangeIndex: 200000 entries, 0 to 199999\n",
      "Data columns (total 18 columns):\n",
      "MWG          200000 non-null int64\n",
      "NWG          200000 non-null int64\n",
      "KWG          200000 non-null int64\n",
      "MDIMC        200000 non-null int64\n",
      "NDIMC        200000 non-null int64\n",
      "MDIMA        200000 non-null int64\n",
      "NDIMB        200000 non-null int64\n",
      "KWI          200000 non-null int64\n",
      "VWM          200000 non-null int64\n",
      "VWN          200000 non-null int64\n",
      "STRM         200000 non-null int64\n",
      "STRN         200000 non-null int64\n",
      "SA           200000 non-null int64\n",
      "SB           200000 non-null int64\n",
      "Run1 (ms)    200000 non-null float64\n",
      "Run2 (ms)    200000 non-null float64\n",
      "Run3 (ms)    200000 non-null float64\n",
      "Run4 (ms)    200000 non-null float64\n",
      "dtypes: float64(4), int64(14)\n",
      "memory usage: 27.5 MB\n"
     ]
    }
   ],
   "source": [
    "data.info()"
   ]
  },
  {
   "cell_type": "code",
   "execution_count": 4,
   "metadata": {},
   "outputs": [],
   "source": [
    "features=data.drop([\"Run1 (ms)\",\"Run2 (ms)\",\"Run3 (ms)\",\"Run4 (ms)\"],axis=\"columns\")"
   ]
  },
  {
   "cell_type": "code",
   "execution_count": 5,
   "metadata": {},
   "outputs": [
    {
     "name": "stdout",
     "output_type": "stream",
     "text": [
      "<class 'pandas.core.frame.DataFrame'>\n",
      "RangeIndex: 200000 entries, 0 to 199999\n",
      "Data columns (total 14 columns):\n",
      "MWG      200000 non-null int64\n",
      "NWG      200000 non-null int64\n",
      "KWG      200000 non-null int64\n",
      "MDIMC    200000 non-null int64\n",
      "NDIMC    200000 non-null int64\n",
      "MDIMA    200000 non-null int64\n",
      "NDIMB    200000 non-null int64\n",
      "KWI      200000 non-null int64\n",
      "VWM      200000 non-null int64\n",
      "VWN      200000 non-null int64\n",
      "STRM     200000 non-null int64\n",
      "STRN     200000 non-null int64\n",
      "SA       200000 non-null int64\n",
      "SB       200000 non-null int64\n",
      "dtypes: int64(14)\n",
      "memory usage: 21.4 MB\n"
     ]
    }
   ],
   "source": [
    "features.info()"
   ]
  },
  {
   "cell_type": "code",
   "execution_count": 10,
   "metadata": {},
   "outputs": [
    {
     "data": {
      "text/plain": [
       "MWG      4\n",
       "NWG      4\n",
       "KWG      2\n",
       "MDIMC    3\n",
       "NDIMC    3\n",
       "MDIMA    3\n",
       "NDIMB    3\n",
       "KWI      2\n",
       "VWM      4\n",
       "VWN      4\n",
       "STRM     2\n",
       "STRN     2\n",
       "SA       2\n",
       "SB       2\n",
       "dtype: int64"
      ]
     },
     "execution_count": 10,
     "metadata": {},
     "output_type": "execute_result"
    }
   ],
   "source": [
    "features.nunique()"
   ]
  },
  {
   "cell_type": "code",
   "execution_count": 11,
   "metadata": {},
   "outputs": [],
   "source": [
    "labels=data[[\"Run1 (ms)\",\"Run2 (ms)\",\"Run3 (ms)\",\"Run4 (ms)\"]]"
   ]
  },
  {
   "cell_type": "markdown",
   "metadata": {},
   "source": [
    "<h3>Applied train test split"
   ]
  },
  {
   "cell_type": "code",
   "execution_count": 12,
   "metadata": {},
   "outputs": [],
   "source": [
    "from sklearn.model_selection import train_test_split\n",
    "x_train,x_test,y_train,y_test=train_test_split(features,labels,random_state=42,test_size=.33)"
   ]
  },
  {
   "cell_type": "markdown",
   "metadata": {},
   "source": [
    "<h4>Applied xgBoost on train test data"
   ]
  },
  {
   "cell_type": "code",
   "execution_count": 13,
   "metadata": {},
   "outputs": [
    {
     "data": {
      "text/plain": [
       "XGBRegressor(base_score=0.5, booster='gbtree', colsample_bylevel=1,\n",
       "       colsample_bytree=1, gamma=0, learning_rate=0.1, max_delta_step=0,\n",
       "       max_depth=15, min_child_weight=1, missing=None, n_estimators=100,\n",
       "       n_jobs=1, nthread=None, objective='reg:linear', random_state=0,\n",
       "       reg_alpha=0, reg_lambda=1, scale_pos_weight=1, seed=None,\n",
       "       silent=True, subsample=1)"
      ]
     },
     "execution_count": 13,
     "metadata": {},
     "output_type": "execute_result"
    }
   ],
   "source": [
    "import xgboost as xgb\n",
    "reg = xgb.XGBRegressor(max_depth=15, n_estimators=100, learning_rate=0.1)\n",
    "reg.fit(x_train,y_train[\"Run1 (ms)\"],eval_metric=\"error\",verbose=True)"
   ]
  },
  {
   "cell_type": "code",
   "execution_count": 14,
   "metadata": {},
   "outputs": [],
   "source": [
    "pred = reg.predict(x_test)\n",
    "from sklearn.metrics import mean_squared_error\n",
    "mean_squared_error(pred,y_test[\"Run1 (ms)\"])"
   ]
  },
  {
   "cell_type": "markdown",
   "metadata": {},
   "source": [
    "<h2>Applying AdaBoostRegressor"
   ]
  },
  {
   "cell_type": "code",
   "execution_count": 17,
   "metadata": {},
   "outputs": [],
   "source": [
    "from sklearn.ensemble import AdaBoostRegressor\n",
    "from sklearn.tree import DecisionTreeRegressor"
   ]
  },
  {
   "cell_type": "code",
   "execution_count": 18,
   "metadata": {},
   "outputs": [],
   "source": [
    "reg = AdaBoostRegressor(DecisionTreeRegressor(max_depth=30),n_estimators=100,loss='exponential')"
   ]
  },
  {
   "cell_type": "code",
   "execution_count": 19,
   "metadata": {},
   "outputs": [
    {
     "data": {
      "text/plain": [
       "AdaBoostRegressor(base_estimator=DecisionTreeRegressor(criterion='mse', max_depth=30, max_features=None,\n",
       "           max_leaf_nodes=None, min_impurity_decrease=0.0,\n",
       "           min_impurity_split=None, min_samples_leaf=1,\n",
       "           min_samples_split=2, min_weight_fraction_leaf=0.0,\n",
       "           presort=False, random_state=None, splitter='best'),\n",
       "         learning_rate=1.0, loss='exponential', n_estimators=100,\n",
       "         random_state=None)"
      ]
     },
     "execution_count": 19,
     "metadata": {},
     "output_type": "execute_result"
    }
   ],
   "source": [
    "reg.fit(features,labels[\"Run1 (ms)\"])"
   ]
  },
  {
   "cell_type": "code",
   "execution_count": 20,
   "metadata": {},
   "outputs": [
    {
     "data": {
      "text/plain": [
       "0.0038718287878787717"
      ]
     },
     "execution_count": 20,
     "metadata": {},
     "output_type": "execute_result"
    }
   ],
   "source": [
    "pred = reg.predict(x_test)\n",
    "mean_squared_error(pred,y_test[\"Run1 (ms)\"])"
   ]
  },
  {
   "cell_type": "code",
   "execution_count": 26,
   "metadata": {},
   "outputs": [
    {
     "name": "stdout",
     "output_type": "stream",
     "text": [
      "<class 'pandas.core.frame.DataFrame'>\n",
      "RangeIndex: 41601 entries, 0 to 41600\n",
      "Data columns (total 14 columns):\n",
      "MWG      41601 non-null int64\n",
      "NWG      41601 non-null int64\n",
      "KWG      41601 non-null int64\n",
      "MDIMC    41601 non-null int64\n",
      "NDIMC    41601 non-null int64\n",
      "MDIMA    41601 non-null int64\n",
      "NDIMB    41601 non-null int64\n",
      "KWI      41601 non-null int64\n",
      "VWM      41601 non-null int64\n",
      "VWN      41601 non-null int64\n",
      "STRM     41601 non-null int64\n",
      "STRN     41601 non-null int64\n",
      "SA       41601 non-null int64\n",
      "SB       41601 non-null int64\n",
      "dtypes: int64(14)\n",
      "memory usage: 4.4 MB\n"
     ]
    }
   ],
   "source": [
    "data_test=pd.read_csv('test.csv')\n",
    "data_test.drop(\"Id\",axis=1,inplace=True)\n",
    "data_test.info()\n",
    "ans={\"Run1 (ms)\":[],\"Run2 (ms)\":[],\"Run3 (ms)\":[],\"Run4 (ms)\":[]}\n",
    "ans[\"Run1 (ms)\"]=reg.predict(data_test)"
   ]
  },
  {
   "cell_type": "code",
   "execution_count": 27,
   "metadata": {},
   "outputs": [],
   "source": [
    "reg.fit(features,labels[\"Run2 (ms)\"])\n",
    "ans[\"Run2 (ms)\"]=reg.predict(data_test)\n",
    "reg.fit(features,labels[\"Run3 (ms)\"])\n",
    "ans[\"Run3 (ms)\"]=reg.predict(data_test)\n",
    "reg.fit(features,labels[\"Run4 (ms)\"])\n",
    "ans[\"Run4 (ms)\"]=reg.predict(data_test)\n",
    "data_test = pd.read_csv(\"test.csv\")\n",
    "ans[\"Id\"]=data_test[\"Id\"]\n",
    "sub = pd.DataFrame(ans)\n",
    "sub.to_csv(\"sampleSubmission.csv\")"
   ]
  },
  {
   "cell_type": "code",
   "execution_count": null,
   "metadata": {},
   "outputs": [],
   "source": []
  }
 ],
 "metadata": {
  "kernelspec": {
   "display_name": "Python 3",
   "language": "python",
   "name": "python3"
  },
  "language_info": {
   "codemirror_mode": {
    "name": "ipython",
    "version": 3
   },
   "file_extension": ".py",
   "mimetype": "text/x-python",
   "name": "python",
   "nbconvert_exporter": "python",
   "pygments_lexer": "ipython3",
   "version": "3.6.4"
  }
 },
 "nbformat": 4,
 "nbformat_minor": 2
}
